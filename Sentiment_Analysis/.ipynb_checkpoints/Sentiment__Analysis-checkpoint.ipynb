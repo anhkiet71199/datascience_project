{
 "cells": [
  {
   "cell_type": "markdown",
   "id": "0cf5aa0b",
   "metadata": {},
   "source": [
    "### Import library"
   ]
  },
  {
   "cell_type": "code",
   "execution_count": 6,
   "id": "0ba26f95",
   "metadata": {
    "id": "0ba26f95"
   },
   "outputs": [],
   "source": [
    "import pandas as pd\n",
    "import numpy as np\n",
    "import matplotlib.pyplot as plt\n",
    "import seaborn as sns\n",
    "import nltk"
   ]
  },
  {
   "cell_type": "markdown",
   "id": "b32c1c5f",
   "metadata": {
    "id": "b32c1c5f"
   },
   "source": [
    "### Read dataset"
   ]
  },
  {
   "cell_type": "code",
   "execution_count": 8,
   "id": "4bd7b038",
   "metadata": {
    "colab": {
     "base_uri": "https://localhost:8080/",
     "height": 206
    },
    "id": "4bd7b038",
    "outputId": "a58572d8-56e7-45db-f8d8-9b7c44faff2c"
   },
   "outputs": [
    {
     "data": {
      "text/html": [
       "\n",
       "\n",
       "  <div id=\"df-8d0279d1-cfd6-4bff-8aa7-6ff84af6e7cf\">\n",
       "    <div class=\"colab-df-container\">\n",
       "      <div>\n",
       "<style scoped>\n",
       "    .dataframe tbody tr th:only-of-type {\n",
       "        vertical-align: middle;\n",
       "    }\n",
       "\n",
       "    .dataframe tbody tr th {\n",
       "        vertical-align: top;\n",
       "    }\n",
       "\n",
       "    .dataframe thead th {\n",
       "        text-align: right;\n",
       "    }\n",
       "</style>\n",
       "<table border=\"1\" class=\"dataframe\">\n",
       "  <thead>\n",
       "    <tr style=\"text-align: right;\">\n",
       "      <th></th>\n",
       "      <th>tweetid</th>\n",
       "      <th>entity</th>\n",
       "      <th>sentiment</th>\n",
       "      <th>text</th>\n",
       "    </tr>\n",
       "  </thead>\n",
       "  <tbody>\n",
       "    <tr>\n",
       "      <th>0</th>\n",
       "      <td>2401</td>\n",
       "      <td>Borderlands</td>\n",
       "      <td>Positive</td>\n",
       "      <td>im getting on borderlands and i will murder yo...</td>\n",
       "    </tr>\n",
       "    <tr>\n",
       "      <th>1</th>\n",
       "      <td>2401</td>\n",
       "      <td>Borderlands</td>\n",
       "      <td>Positive</td>\n",
       "      <td>I am coming to the borders and I will kill you...</td>\n",
       "    </tr>\n",
       "    <tr>\n",
       "      <th>2</th>\n",
       "      <td>2401</td>\n",
       "      <td>Borderlands</td>\n",
       "      <td>Positive</td>\n",
       "      <td>im getting on borderlands and i will kill you ...</td>\n",
       "    </tr>\n",
       "    <tr>\n",
       "      <th>3</th>\n",
       "      <td>2401</td>\n",
       "      <td>Borderlands</td>\n",
       "      <td>Positive</td>\n",
       "      <td>im coming on borderlands and i will murder you...</td>\n",
       "    </tr>\n",
       "    <tr>\n",
       "      <th>4</th>\n",
       "      <td>2401</td>\n",
       "      <td>Borderlands</td>\n",
       "      <td>Positive</td>\n",
       "      <td>im getting on borderlands 2 and i will murder ...</td>\n",
       "    </tr>\n",
       "  </tbody>\n",
       "</table>\n",
       "</div>\n",
       "      <button class=\"colab-df-convert\" onclick=\"convertToInteractive('df-8d0279d1-cfd6-4bff-8aa7-6ff84af6e7cf')\"\n",
       "              title=\"Convert this dataframe to an interactive table.\"\n",
       "              style=\"display:none;\">\n",
       "\n",
       "  <svg xmlns=\"http://www.w3.org/2000/svg\" height=\"24px\"viewBox=\"0 0 24 24\"\n",
       "       width=\"24px\">\n",
       "    <path d=\"M0 0h24v24H0V0z\" fill=\"none\"/>\n",
       "    <path d=\"M18.56 5.44l.94 2.06.94-2.06 2.06-.94-2.06-.94-.94-2.06-.94 2.06-2.06.94zm-11 1L8.5 8.5l.94-2.06 2.06-.94-2.06-.94L8.5 2.5l-.94 2.06-2.06.94zm10 10l.94 2.06.94-2.06 2.06-.94-2.06-.94-.94-2.06-.94 2.06-2.06.94z\"/><path d=\"M17.41 7.96l-1.37-1.37c-.4-.4-.92-.59-1.43-.59-.52 0-1.04.2-1.43.59L10.3 9.45l-7.72 7.72c-.78.78-.78 2.05 0 2.83L4 21.41c.39.39.9.59 1.41.59.51 0 1.02-.2 1.41-.59l7.78-7.78 2.81-2.81c.8-.78.8-2.07 0-2.86zM5.41 20L4 18.59l7.72-7.72 1.47 1.35L5.41 20z\"/>\n",
       "  </svg>\n",
       "      </button>\n",
       "\n",
       "\n",
       "\n",
       "    <div id=\"df-4f7eb500-9a88-4009-8dbf-8e97a32ad5c4\">\n",
       "      <button class=\"colab-df-quickchart\" onclick=\"quickchart('df-4f7eb500-9a88-4009-8dbf-8e97a32ad5c4')\"\n",
       "              title=\"Suggest charts.\"\n",
       "              style=\"display:none;\">\n",
       "\n",
       "<svg xmlns=\"http://www.w3.org/2000/svg\" height=\"24px\"viewBox=\"0 0 24 24\"\n",
       "     width=\"24px\">\n",
       "    <g>\n",
       "        <path d=\"M19 3H5c-1.1 0-2 .9-2 2v14c0 1.1.9 2 2 2h14c1.1 0 2-.9 2-2V5c0-1.1-.9-2-2-2zM9 17H7v-7h2v7zm4 0h-2V7h2v10zm4 0h-2v-4h2v4z\"/>\n",
       "    </g>\n",
       "</svg>\n",
       "      </button>\n",
       "    </div>\n",
       "\n",
       "<style>\n",
       "  .colab-df-quickchart {\n",
       "    background-color: #E8F0FE;\n",
       "    border: none;\n",
       "    border-radius: 50%;\n",
       "    cursor: pointer;\n",
       "    display: none;\n",
       "    fill: #1967D2;\n",
       "    height: 32px;\n",
       "    padding: 0 0 0 0;\n",
       "    width: 32px;\n",
       "  }\n",
       "\n",
       "  .colab-df-quickchart:hover {\n",
       "    background-color: #E2EBFA;\n",
       "    box-shadow: 0px 1px 2px rgba(60, 64, 67, 0.3), 0px 1px 3px 1px rgba(60, 64, 67, 0.15);\n",
       "    fill: #174EA6;\n",
       "  }\n",
       "\n",
       "  [theme=dark] .colab-df-quickchart {\n",
       "    background-color: #3B4455;\n",
       "    fill: #D2E3FC;\n",
       "  }\n",
       "\n",
       "  [theme=dark] .colab-df-quickchart:hover {\n",
       "    background-color: #434B5C;\n",
       "    box-shadow: 0px 1px 3px 1px rgba(0, 0, 0, 0.15);\n",
       "    filter: drop-shadow(0px 1px 2px rgba(0, 0, 0, 0.3));\n",
       "    fill: #FFFFFF;\n",
       "  }\n",
       "</style>\n",
       "\n",
       "    <script>\n",
       "      async function quickchart(key) {\n",
       "        const containerElement = document.querySelector('#' + key);\n",
       "        const charts = await google.colab.kernel.invokeFunction(\n",
       "            'suggestCharts', [key], {});\n",
       "      }\n",
       "    </script>\n",
       "\n",
       "      <script>\n",
       "\n",
       "function displayQuickchartButton(domScope) {\n",
       "  let quickchartButtonEl =\n",
       "    domScope.querySelector('#df-4f7eb500-9a88-4009-8dbf-8e97a32ad5c4 button.colab-df-quickchart');\n",
       "  quickchartButtonEl.style.display =\n",
       "    google.colab.kernel.accessAllowed ? 'block' : 'none';\n",
       "}\n",
       "\n",
       "        displayQuickchartButton(document);\n",
       "      </script>\n",
       "      <style>\n",
       "    .colab-df-container {\n",
       "      display:flex;\n",
       "      flex-wrap:wrap;\n",
       "      gap: 12px;\n",
       "    }\n",
       "\n",
       "    .colab-df-convert {\n",
       "      background-color: #E8F0FE;\n",
       "      border: none;\n",
       "      border-radius: 50%;\n",
       "      cursor: pointer;\n",
       "      display: none;\n",
       "      fill: #1967D2;\n",
       "      height: 32px;\n",
       "      padding: 0 0 0 0;\n",
       "      width: 32px;\n",
       "    }\n",
       "\n",
       "    .colab-df-convert:hover {\n",
       "      background-color: #E2EBFA;\n",
       "      box-shadow: 0px 1px 2px rgba(60, 64, 67, 0.3), 0px 1px 3px 1px rgba(60, 64, 67, 0.15);\n",
       "      fill: #174EA6;\n",
       "    }\n",
       "\n",
       "    [theme=dark] .colab-df-convert {\n",
       "      background-color: #3B4455;\n",
       "      fill: #D2E3FC;\n",
       "    }\n",
       "\n",
       "    [theme=dark] .colab-df-convert:hover {\n",
       "      background-color: #434B5C;\n",
       "      box-shadow: 0px 1px 3px 1px rgba(0, 0, 0, 0.15);\n",
       "      filter: drop-shadow(0px 1px 2px rgba(0, 0, 0, 0.3));\n",
       "      fill: #FFFFFF;\n",
       "    }\n",
       "  </style>\n",
       "\n",
       "      <script>\n",
       "        const buttonEl =\n",
       "          document.querySelector('#df-8d0279d1-cfd6-4bff-8aa7-6ff84af6e7cf button.colab-df-convert');\n",
       "        buttonEl.style.display =\n",
       "          google.colab.kernel.accessAllowed ? 'block' : 'none';\n",
       "\n",
       "        async function convertToInteractive(key) {\n",
       "          const element = document.querySelector('#df-8d0279d1-cfd6-4bff-8aa7-6ff84af6e7cf');\n",
       "          const dataTable =\n",
       "            await google.colab.kernel.invokeFunction('convertToInteractive',\n",
       "                                                     [key], {});\n",
       "          if (!dataTable) return;\n",
       "\n",
       "          const docLinkHtml = 'Like what you see? Visit the ' +\n",
       "            '<a target=\"_blank\" href=https://colab.research.google.com/notebooks/data_table.ipynb>data table notebook</a>'\n",
       "            + ' to learn more about interactive tables.';\n",
       "          element.innerHTML = '';\n",
       "          dataTable['output_type'] = 'display_data';\n",
       "          await google.colab.output.renderOutput(dataTable, element);\n",
       "          const docLink = document.createElement('div');\n",
       "          docLink.innerHTML = docLinkHtml;\n",
       "          element.appendChild(docLink);\n",
       "        }\n",
       "      </script>\n",
       "    </div>\n",
       "  </div>\n"
      ],
      "text/plain": [
       "   tweetid       entity sentiment  \\\n",
       "0     2401  Borderlands  Positive   \n",
       "1     2401  Borderlands  Positive   \n",
       "2     2401  Borderlands  Positive   \n",
       "3     2401  Borderlands  Positive   \n",
       "4     2401  Borderlands  Positive   \n",
       "\n",
       "                                                text  \n",
       "0  im getting on borderlands and i will murder yo...  \n",
       "1  I am coming to the borders and I will kill you...  \n",
       "2  im getting on borderlands and i will kill you ...  \n",
       "3  im coming on borderlands and i will murder you...  \n",
       "4  im getting on borderlands 2 and i will murder ...  "
      ]
     },
     "execution_count": 8,
     "metadata": {},
     "output_type": "execute_result"
    }
   ],
   "source": [
    "data = pd.read_csv('./dataset/twitter_sentiment_analysis/twitter_training.csv', names = ['tweetid', 'entity','sentiment','text'])\n",
    "data_test = pd.read_csv('./dataset/twitter_sentiment_analysis/twitter_validation.csv', names = ['tweetid','entity','sentiment','text'])\n",
    "data.head()"
   ]
  },
  {
   "cell_type": "code",
   "execution_count": 9,
   "id": "d2eb2464",
   "metadata": {
    "colab": {
     "base_uri": "https://localhost:8080/"
    },
    "id": "d2eb2464",
    "outputId": "9ffa4481-cbae-4d1f-d8d6-128865e15b93"
   },
   "outputs": [
    {
     "name": "stdout",
     "output_type": "stream",
     "text": [
      "<class 'pandas.core.frame.DataFrame'>\n",
      "RangeIndex: 74682 entries, 0 to 74681\n",
      "Data columns (total 4 columns):\n",
      " #   Column     Non-Null Count  Dtype \n",
      "---  ------     --------------  ----- \n",
      " 0   tweetid    74682 non-null  int64 \n",
      " 1   entity     74682 non-null  object\n",
      " 2   sentiment  74682 non-null  object\n",
      " 3   text       73996 non-null  object\n",
      "dtypes: int64(1), object(3)\n",
      "memory usage: 2.3+ MB\n"
     ]
    }
   ],
   "source": [
    "data.info()"
   ]
  },
  {
   "cell_type": "markdown",
   "id": "fdb28d5a",
   "metadata": {},
   "source": [
    "## Data cleaning"
   ]
  },
  {
   "cell_type": "markdown",
   "id": "38bf81f8",
   "metadata": {
    "id": "38bf81f8"
   },
   "source": [
    "### Count values of sentiment"
   ]
  },
  {
   "cell_type": "code",
   "execution_count": 10,
   "id": "deb65fb2",
   "metadata": {
    "colab": {
     "base_uri": "https://localhost:8080/"
    },
    "id": "deb65fb2",
    "outputId": "b5d1a02a-6611-40c2-86ed-4295f2b7908b"
   },
   "outputs": [
    {
     "data": {
      "text/plain": [
       "Negative      22542\n",
       "Positive      20832\n",
       "Neutral       18318\n",
       "Irrelevant    12990\n",
       "Name: sentiment, dtype: int64"
      ]
     },
     "execution_count": 10,
     "metadata": {},
     "output_type": "execute_result"
    }
   ],
   "source": [
    "data['sentiment'].value_counts()"
   ]
  },
  {
   "cell_type": "markdown",
   "id": "711ba7da",
   "metadata": {
    "id": "711ba7da"
   },
   "source": [
    "### Drop duplicate and drop null data"
   ]
  },
  {
   "cell_type": "code",
   "execution_count": 11,
   "id": "61aa7a27",
   "metadata": {
    "id": "61aa7a27"
   },
   "outputs": [],
   "source": [
    "data.drop_duplicates(inplace=True)\n",
    "data.dropna(inplace=True)\n",
    "data_test.drop_duplicates(inplace=True)\n",
    "data_test.dropna(inplace=True)"
   ]
  },
  {
   "cell_type": "markdown",
   "id": "6a72dd1d",
   "metadata": {
    "id": "6a72dd1d"
   },
   "source": [
    "### Remove value 'Irrelevant' in sentiment"
   ]
  },
  {
   "cell_type": "code",
   "execution_count": 12,
   "id": "7e041031",
   "metadata": {
    "id": "7e041031"
   },
   "outputs": [],
   "source": [
    "data.drop(data[data['sentiment'] == 'Irrelevant'].index, inplace=True)\n",
    "data_test.drop(data_test[data_test['sentiment'] == 'Irrelevant'].index, inplace=True)"
   ]
  },
  {
   "cell_type": "code",
   "execution_count": 13,
   "id": "97793cca",
   "metadata": {
    "id": "97793cca"
   },
   "outputs": [],
   "source": [
    "data.reset_index(inplace=True)\n",
    "data_test.reset_index(inplace=True)"
   ]
  },
  {
   "cell_type": "markdown",
   "id": "c75b6780",
   "metadata": {
    "id": "c75b6780"
   },
   "source": [
    "### Count chart values in label sentiment"
   ]
  },
  {
   "cell_type": "code",
   "execution_count": 14,
   "id": "559a11fa",
   "metadata": {
    "colab": {
     "base_uri": "https://localhost:8080/",
     "height": 449
    },
    "id": "559a11fa",
    "outputId": "4adc3929-968f-489e-8ad8-d562821dee03"
   },
   "outputs": [
    {
     "data": {
      "image/png": "[encoded data removed]",
      "text/plain": [
       "<Figure size 640x480 with 1 Axes>"
      ]
     },
     "metadata": {},
     "output_type": "display_data"
    }
   ],
   "source": [
    "sns.countplot(x='sentiment', data=data)\n",
    "plt.show()"
   ]
  },
  {
   "cell_type": "markdown",
   "id": "f4480b96",
   "metadata": {},
   "source": [
    "## Data preprocessing"
   ]
  },
  {
   "cell_type": "markdown",
   "id": "74a79d5f",
   "metadata": {
    "id": "74a79d5f"
   },
   "source": [
    "### Data modeling"
   ]
  },
  {
   "cell_type": "code",
   "execution_count": 15,
   "id": "1cd258ff",
   "metadata": {
    "id": "1cd258ff"
   },
   "outputs": [],
   "source": [
    "X_origin = data['text']\n",
    "y_label = data['sentiment']\n",
    "X_test_origin = data_test['text']\n",
    "y_test_label = data_test['sentiment']"
   ]
  },
  {
   "cell_type": "markdown",
   "id": "69b55c15",
   "metadata": {
    "id": "69b55c15"
   },
   "source": [
    "### Import library preprocessing X and y"
   ]
  },
  {
   "cell_type": "code",
   "execution_count": 23,
   "id": "9b25100b",
   "metadata": {
    "id": "9b25100b"
   },
   "outputs": [],
   "source": [
    "import re\n",
    "import nltk\n",
    "from nltk.corpus import stopwords\n",
    "from sklearn.model_selection import train_test_split\n",
    "from sklearn.preprocessing import LabelEncoder\n",
    "from tensorflow.keras.utils import to_categorical\n",
    "from sklearn.feature_extraction.text import TfidfVectorizer\n",
    "from nltk.stem import WordNetLemmatizer\n",
    "from nltk.corpus import wordnet\n",
    "from keras import models, layers\n",
    "from keras.preprocessing.text import Tokenizer\n",
    "from keras.utils import pad_sequences\n",
    "from keras.callbacks import EarlyStopping"
   ]
  },
  {
   "cell_type": "code",
   "execution_count": 28,
   "id": "2ab8f490",
   "metadata": {
    "colab": {
     "base_uri": "https://localhost:8080/"
    },
    "id": "2ab8f490",
    "outputId": "d2e5e987-a124-4f71-ef0a-6c0d3e3a16f1"
   },
   "outputs": [
    {
     "name": "stderr",
     "output_type": "stream",
     "text": [
      "[nltk_data] Downloading package wordnet to /root/nltk_data...\n",
      "[nltk_data]   Package wordnet is already up-to-date!\n",
      "[nltk_data] Downloading package stopwords to /root/nltk_data...\n",
      "[nltk_data]   Package stopwords is already up-to-date!\n",
      "[nltk_data] Downloading package punkt to /root/nltk_data...\n",
      "[nltk_data]   Package punkt is already up-to-date!\n",
      "[nltk_data] Downloading package averaged_perceptron_tagger to\n",
      "[nltk_data]     /root/nltk_data...\n",
      "[nltk_data]   Unzipping taggers/averaged_perceptron_tagger.zip.\n"
     ]
    },
    {
     "data": {
      "text/plain": [
       "True"
      ]
     },
     "execution_count": 28,
     "metadata": {},
     "output_type": "execute_result"
    }
   ],
   "source": [
    "nltk.download('wordnet')\n",
    "nltk.download('stopwords')\n",
    "nltk.download('punkt')\n",
    "nltk.download('averaged_perceptron_tagger')"
   ]
  },
  {
   "cell_type": "markdown",
   "id": "6efac494",
   "metadata": {
    "id": "6efac494"
   },
   "source": [
    "### Label Encoder for label sentiment"
   ]
  },
  {
   "cell_type": "code",
   "execution_count": 18,
   "id": "fa976060",
   "metadata": {
    "colab": {
     "base_uri": "https://localhost:8080/"
    },
    "id": "fa976060",
    "outputId": "7a8902f1-66b9-4187-edb0-52feacf3557d"
   },
   "outputs": [
    {
     "name": "stdout",
     "output_type": "stream",
     "text": [
      "{'Negative': 0, 'Neutral': 1, 'Positive': 2}\n"
     ]
    }
   ],
   "source": [
    "label_encoder = LabelEncoder()\n",
    "y = label_encoder.fit_transform(y_label)\n",
    "y_mapping = dict(zip(label_encoder.classes_, label_encoder.transform(label_encoder.classes_)))\n",
    "print(y_mapping)"
   ]
  },
  {
   "cell_type": "markdown",
   "id": "58087e1c",
   "metadata": {
    "id": "58087e1c"
   },
   "source": [
    "### Replace text with some text have character to text"
   ]
  },
  {
   "cell_type": "code",
   "execution_count": 19,
   "id": "65a13eeb",
   "metadata": {
    "id": "65a13eeb"
   },
   "outputs": [],
   "source": [
    "replace_list = {\n",
    "    r\"i'm\": 'i am',\n",
    "    r\"im\": 'i am',\n",
    "    r\"'re\": ' are',\n",
    "    r\"let’s\": 'let us',\n",
    "    r\"'s\":  ' is',\n",
    "    r\"'ve\": ' have',\n",
    "    r\"can't\": 'can not',\n",
    "    r\"cannot\": 'can not',\n",
    "    r\"shan’t\": 'shall not',\n",
    "    r\"n't\": ' not',\n",
    "    r\"'d\": ' would',\n",
    "    r\"'ll\": ' will',\n",
    "    r\"'scuse\": 'excuse',\n",
    "    ',': ' ,',\n",
    "    '.': ' .',\n",
    "    '!': ' !',\n",
    "    '?': ' ?',\n",
    "    '\\s+': ' '\n",
    "}"
   ]
  },
  {
   "cell_type": "markdown",
   "id": "81f61387",
   "metadata": {
    "id": "81f61387"
   },
   "source": [
    "### Clean text with replace text and remove some character"
   ]
  },
  {
   "cell_type": "code",
   "execution_count": 29,
   "id": "3e67413b",
   "metadata": {
    "id": "3e67413b"
   },
   "outputs": [],
   "source": [
    "def clean_text(text):\n",
    "    # Replace text\n",
    "    text = text.lower()\n",
    "    for s in replace_list:\n",
    "        text = text.replace(s, replace_list[s])\n",
    "    text = ' '.join(text.split())\n",
    "    # lowercase\n",
    "    text = text.lower()\n",
    "    # Text in square brackets\n",
    "    text = re.sub('\\[.*?\\]', '', text)\n",
    "    # link\n",
    "    text = re.sub('https?://\\S+|www\\.\\S+', '', text)\n",
    "    # Punctuation\n",
    "    text = re.sub('[^a-zA-Z0-9\\s]+', '', text)\n",
    "    # Words containing numbers\n",
    "    text = re.sub('\\w*\\d\\w*', '', text)\n",
    "    # Stop words\n",
    "    stop_words = set(stopwords.words('english'))\n",
    "    words = text.split()\n",
    "    filtered_words = [word for word in words if word not in stop_words]\n",
    "    text = ' '.join(filtered_words)\n",
    "    # Extra whitespace\n",
    "    text = re.sub('\\s+', ' ', text).strip()\n",
    "    words = nltk.word_tokenize(text)\n",
    "\n",
    "    lemmatizer = WordNetLemmatizer()\n",
    "    lemmatized_words = []\n",
    "    for word in words:\n",
    "        # Determine POS\n",
    "        pos_tag = nltk.pos_tag([word])[0][1]\n",
    "        if pos_tag.startswith('V'):  # Verb\n",
    "            lemma = lemmatizer.lemmatize(word, wordnet.VERB)\n",
    "        elif pos_tag.startswith('N'):  # Noun\n",
    "            lemma = lemmatizer.lemmatize(word, wordnet.NOUN)\n",
    "        elif pos_tag.startswith('J'):  # ADJ\n",
    "            lemma = lemmatizer.lemmatize(word, wordnet.ADJ)\n",
    "        elif pos_tag.startswith('R'):  # ADV\n",
    "            lemma = lemmatizer.lemmatize(word, wordnet.ADV)\n",
    "        else:\n",
    "            lemma = word\n",
    "        lemmatized_words.append(lemma)\n",
    "\n",
    "    text = ' '.join(lemmatized_words)\n",
    "    return text\n",
    "\n",
    "X_clean = X_origin.apply(lambda p: clean_text(p))\n",
    "X_test_clean = X_test_origin.apply(lambda p : clean_text(p))"
   ]
  },
  {
   "cell_type": "markdown",
   "id": "3e4d5ad7",
   "metadata": {},
   "source": [
    "### Vectorizing data"
   ]
  },
  {
   "cell_type": "code",
   "execution_count": 30,
   "id": "20991b2d",
   "metadata": {
    "id": "20991b2d"
   },
   "outputs": [],
   "source": [
    "max_words = 10000\n",
    "tokenizer = Tokenizer(num_words = max_words)\n",
    "tokenizer.fit_on_texts(X_clean)\n",
    "X = tokenizer.texts_to_sequences(X_clean)\n",
    "X_test = tokenizer.texts_to_sequences(X_test_clean)\n",
    "X = pad_sequences(X, maxlen = 500)\n",
    "X_test = pad_sequences(X_test, maxlen = 500)"
   ]
  },
  {
   "cell_type": "markdown",
   "id": "a7fa22ce",
   "metadata": {},
   "source": [
    "## Data Prediction"
   ]
  },
  {
   "cell_type": "markdown",
   "id": "d28ec44b",
   "metadata": {
    "id": "d28ec44b"
   },
   "source": [
    "### Train_test_split X and y"
   ]
  },
  {
   "cell_type": "code",
   "execution_count": 31,
   "id": "ad314097",
   "metadata": {
    "id": "ad314097"
   },
   "outputs": [],
   "source": [
    "X_train, X_valid, y_train, y_valid = train_test_split(X, y, test_size=.25, random_state=42)"
   ]
  },
  {
   "cell_type": "markdown",
   "id": "62d021ff",
   "metadata": {},
   "source": [
    "### Deep learning LSTM model"
   ]
  },
  {
   "cell_type": "code",
   "execution_count": 32,
   "id": "c94fd715",
   "metadata": {
    "id": "c94fd715"
   },
   "outputs": [],
   "source": [
    "model = models.Sequential([\n",
    "    layers.Embedding(input_dim = max_words, output_dim = 128, input_length = 500),\n",
    "    layers.SpatialDropout1D(0.3),\n",
    "    layers.LSTM(128, dropout = 0.3, recurrent_dropout = 0.3),\n",
    "    layers.Dense(128, activation = 'relu'),\n",
    "    layers.Dropout(0.3),\n",
    "    layers.Dense(3, activation = 'softmax'),\n",
    "])\n",
    "early_stopping = EarlyStopping(monitor='loss', patience=2)\n",
    "model.compile(\n",
    "    loss='sparse_categorical_crossentropy',\n",
    "    optimizer='adam',\n",
    "    metrics=['accuracy']\n",
    ")"
   ]
  },
  {
   "cell_type": "code",
   "execution_count": 33,
   "id": "6dc750f3",
   "metadata": {
    "colab": {
     "base_uri": "https://localhost:8080/"
    },
    "id": "6dc750f3",
    "outputId": "ededa7d8-53bc-4cb1-c07e-bc4749447f08"
   },
   "outputs": [
    {
     "name": "stdout",
     "output_type": "stream",
     "text": [
      "Epoch 1/10\n",
      "87/87 [==============================] - 1185s 14s/step - loss: 0.8953 - accuracy: 0.5741 - val_loss: 0.6566 - val_accuracy: 0.7283\n",
      "Epoch 2/10\n",
      "87/87 [==============================] - 1178s 14s/step - loss: 0.5629 - accuracy: 0.7741 - val_loss: 0.5308 - val_accuracy: 0.7861\n",
      "Epoch 3/10\n",
      "87/87 [==============================] - 1179s 14s/step - loss: 0.4392 - accuracy: 0.8280 - val_loss: 0.4610 - val_accuracy: 0.8167\n",
      "Epoch 4/10\n",
      "87/87 [==============================] - 1166s 13s/step - loss: 0.3681 - accuracy: 0.8550 - val_loss: 0.4257 - val_accuracy: 0.8323\n",
      "Epoch 5/10\n",
      "87/87 [==============================] - 1167s 13s/step - loss: 0.3235 - accuracy: 0.8727 - val_loss: 0.4000 - val_accuracy: 0.8410\n",
      "Epoch 6/10\n",
      "87/87 [==============================] - 1139s 13s/step - loss: 0.2883 - accuracy: 0.8858 - val_loss: 0.3861 - val_accuracy: 0.8490\n",
      "Epoch 7/10\n",
      "87/87 [==============================] - 1136s 13s/step - loss: 0.2685 - accuracy: 0.8934 - val_loss: 0.3837 - val_accuracy: 0.8541\n",
      "Epoch 8/10\n",
      "87/87 [==============================] - 1154s 13s/step - loss: 0.2454 - accuracy: 0.9012 - val_loss: 0.3764 - val_accuracy: 0.8566\n",
      "Epoch 9/10\n",
      "87/87 [==============================] - 1144s 13s/step - loss: 0.2336 - accuracy: 0.9044 - val_loss: 0.3779 - val_accuracy: 0.8598\n",
      "Epoch 10/10\n",
      "87/87 [==============================] - 1143s 13s/step - loss: 0.2200 - accuracy: 0.9102 - val_loss: 0.3825 - val_accuracy: 0.8604\n"
     ]
    }
   ],
   "source": [
    "history = model.fit(\n",
    "    X_train,\n",
    "    y_train,\n",
    "    validation_data=(X_valid,y_valid),\n",
    "    epochs = 10,\n",
    "    batch_size = 512,\n",
    "    callbacks=[early_stopping],\n",
    ")"
   ]
  },
  {
   "cell_type": "markdown",
   "id": "d0124f81",
   "metadata": {},
   "source": [
    "### Save and load model LSTM"
   ]
  },
  {
   "cell_type": "code",
   "execution_count": 34,
   "id": "13bbe73f",
   "metadata": {
    "id": "13bbe73f"
   },
   "outputs": [],
   "source": [
    "model.save('./model_keras/lstm.h5')"
   ]
  },
  {
   "cell_type": "code",
   "execution_count": 35,
   "id": "643af665",
   "metadata": {
    "id": "643af665"
   },
   "outputs": [],
   "source": [
    "model = models.load_model('./model_keras/lstm.h5')"
   ]
  },
  {
   "cell_type": "markdown",
   "id": "70631750",
   "metadata": {},
   "source": [
    "### Plotting accuracy and loss"
   ]
  },
  {
   "cell_type": "code",
   "execution_count": 36,
   "id": "035892d2",
   "metadata": {
    "colab": {
     "base_uri": "https://localhost:8080/",
     "height": 452
    },
    "id": "035892d2",
    "outputId": "7d1264cd-91ff-40dc-8b54-6a8b0e698971"
   },
   "outputs": [
    {
     "data": {
      "image/png": "[encoded data removed]",
      "text/plain": [
       "<Figure size 640x480 with 1 Axes>"
      ]
     },
     "metadata": {},
     "output_type": "display_data"
    }
   ],
   "source": [
    "history_ = history.history\n",
    "acc, val_acc = history_[\"accuracy\"], history_[\"val_accuracy\"]\n",
    "epochs = range(len(acc))\n",
    "plt.plot(epochs, acc, 'r', label='Training accuracy')\n",
    "plt.plot(epochs, val_acc, 'b', label='Validating accuracy')\n",
    "plt.title('Training accuracy & Validating accuracy')\n",
    "plt.legend()\n",
    "\n",
    "plt.show()"
   ]
  },
  {
   "cell_type": "code",
   "execution_count": 37,
   "id": "f6e4a527",
   "metadata": {
    "colab": {
     "base_uri": "https://localhost:8080/",
     "height": 452
    },
    "id": "f6e4a527",
    "outputId": "b0855342-4ee3-409b-ac05-1928654c7207"
   },
   "outputs": [
    {
     "data": {
      "image/png": "[encoded data removed]",
      "text/plain": [
       "<Figure size 640x480 with 1 Axes>"
      ]
     },
     "metadata": {},
     "output_type": "display_data"
    }
   ],
   "source": [
    "train_loss, val_loss = history_[\"loss\"], history_[\"val_loss\"]\n",
    "epochs = range(len(train_loss))\n",
    "plt.plot(epochs, train_loss, 'r', label='Training loss')\n",
    "plt.plot(epochs, val_loss, 'b', label='Validating loss')\n",
    "plt.title('Training loss & Validating loss')\n",
    "plt.legend()\n",
    "\n",
    "plt.show()"
   ]
  },
  {
   "cell_type": "markdown",
   "id": "26f0792f",
   "metadata": {},
   "source": [
    "### Machine learning model"
   ]
  },
  {
   "cell_type": "markdown",
   "id": "lm1JrNQYCnH-",
   "metadata": {
    "id": "lm1JrNQYCnH-"
   },
   "source": [
    "GausianNaiveBayes"
   ]
  },
  {
   "cell_type": "code",
   "execution_count": 48,
   "id": "vvyKQylFCcwJ",
   "metadata": {
    "colab": {
     "base_uri": "https://localhost:8080/"
    },
    "id": "vvyKQylFCcwJ",
    "outputId": "6d24a34c-6698-4363-9a46-897fc7343db5"
   },
   "outputs": [
    {
     "data": {
      "text/plain": [
       "0.37422192151556155"
      ]
     },
     "execution_count": 48,
     "metadata": {},
     "output_type": "execute_result"
    }
   ],
   "source": [
    "bayes = GaussianNB()\n",
    "bayes.fit(X_train, y_train)\n",
    "bayes.score(X_valid, y_valid)"
   ]
  },
  {
   "cell_type": "markdown",
   "id": "31JneTNrCr9_",
   "metadata": {
    "id": "31JneTNrCr9_"
   },
   "source": [
    "DecisionTree"
   ]
  },
  {
   "cell_type": "code",
   "execution_count": 50,
   "id": "O-jVk1XOCdTe",
   "metadata": {
    "colab": {
     "base_uri": "https://localhost:8080/"
    },
    "id": "O-jVk1XOCdTe",
    "outputId": "7d7e5086-be88-45ff-f668-10b3a31efcdb"
   },
   "outputs": [
    {
     "data": {
      "text/plain": [
       "0.5685385656292287"
      ]
     },
     "execution_count": 50,
     "metadata": {},
     "output_type": "execute_result"
    }
   ],
   "source": [
    "dt = DecisionTreeClassifier()\n",
    "dt.fit(X_train, y_train)\n",
    "dt.score(X_valid, y_valid)"
   ]
  },
  {
   "cell_type": "markdown",
   "id": "ms0KcGDeCuV7",
   "metadata": {
    "id": "ms0KcGDeCuV7"
   },
   "source": [
    "RandomForest"
   ]
  },
  {
   "cell_type": "code",
   "execution_count": 49,
   "id": "CJYRBdMeCcpv",
   "metadata": {
    "colab": {
     "base_uri": "https://localhost:8080/"
    },
    "id": "CJYRBdMeCcpv",
    "outputId": "65955604-a087-4443-b638-39e9e31844dc"
   },
   "outputs": [
    {
     "data": {
      "text/plain": [
       "0.6527063599458728"
      ]
     },
     "execution_count": 49,
     "metadata": {},
     "output_type": "execute_result"
    }
   ],
   "source": [
    "rf = RandomForestClassifier()\n",
    "rf.fit(X_train, y_train)\n",
    "rf.score(X_valid, y_valid)"
   ]
  },
  {
   "cell_type": "markdown",
   "id": "b97c3a12",
   "metadata": {
    "id": "b97c3a12"
   },
   "source": [
    "## Test with data_test"
   ]
  },
  {
   "cell_type": "code",
   "execution_count": 38,
   "id": "fd2cb26c",
   "metadata": {
    "colab": {
     "base_uri": "https://localhost:8080/"
    },
    "id": "fd2cb26c",
    "outputId": "39831856-eaca-486b-b812-6dab411949eb",
    "scrolled": true
   },
   "outputs": [
    {
     "name": "stdout",
     "output_type": "stream",
     "text": [
      "26/26 [==============================] - 7s 253ms/step\n"
     ]
    }
   ],
   "source": [
    "predict_test = model.predict(X_test)\n",
    "predicted_labels = np.argmax(predict_test,axis=1)\n",
    "y_predict = label_encoder.inverse_transform(predicted_labels)"
   ]
  },
  {
   "cell_type": "markdown",
   "id": "0d550f26",
   "metadata": {
    "id": "0d550f26"
   },
   "source": [
    "### DataFrame for prediction and y_test"
   ]
  },
  {
   "cell_type": "code",
   "execution_count": 51,
   "id": "9d3bfd13",
   "metadata": {
    "colab": {
     "base_uri": "https://localhost:8080/",
     "height": 363
    },
    "id": "9d3bfd13",
    "outputId": "b7cb1bf5-b733-4291-dfcc-5329d86b313d"
   },
   "outputs": [
    {
     "data": {
      "text/html": [
       "\n",
       "\n",
       "  <div id=\"df-03461b1e-bee7-4492-b31e-c491ea17cdcb\">\n",
       "    <div class=\"colab-df-container\">\n",
       "      <div>\n",
       "<style scoped>\n",
       "    .dataframe tbody tr th:only-of-type {\n",
       "        vertical-align: middle;\n",
       "    }\n",
       "\n",
       "    .dataframe tbody tr th {\n",
       "        vertical-align: top;\n",
       "    }\n",
       "\n",
       "    .dataframe thead th {\n",
       "        text-align: right;\n",
       "    }\n",
       "</style>\n",
       "<table border=\"1\" class=\"dataframe\">\n",
       "  <thead>\n",
       "    <tr style=\"text-align: right;\">\n",
       "      <th></th>\n",
       "      <th>Prediction</th>\n",
       "      <th>y_test</th>\n",
       "    </tr>\n",
       "  </thead>\n",
       "  <tbody>\n",
       "    <tr>\n",
       "      <th>0</th>\n",
       "      <td>Neutral</td>\n",
       "      <td>Neutral</td>\n",
       "    </tr>\n",
       "    <tr>\n",
       "      <th>1</th>\n",
       "      <td>Negative</td>\n",
       "      <td>Negative</td>\n",
       "    </tr>\n",
       "    <tr>\n",
       "      <th>2</th>\n",
       "      <td>Negative</td>\n",
       "      <td>Negative</td>\n",
       "    </tr>\n",
       "    <tr>\n",
       "      <th>3</th>\n",
       "      <td>Neutral</td>\n",
       "      <td>Neutral</td>\n",
       "    </tr>\n",
       "    <tr>\n",
       "      <th>4</th>\n",
       "      <td>Negative</td>\n",
       "      <td>Negative</td>\n",
       "    </tr>\n",
       "    <tr>\n",
       "      <th>5</th>\n",
       "      <td>Positive</td>\n",
       "      <td>Positive</td>\n",
       "    </tr>\n",
       "    <tr>\n",
       "      <th>6</th>\n",
       "      <td>Positive</td>\n",
       "      <td>Positive</td>\n",
       "    </tr>\n",
       "    <tr>\n",
       "      <th>7</th>\n",
       "      <td>Positive</td>\n",
       "      <td>Positive</td>\n",
       "    </tr>\n",
       "    <tr>\n",
       "      <th>8</th>\n",
       "      <td>Negative</td>\n",
       "      <td>Negative</td>\n",
       "    </tr>\n",
       "    <tr>\n",
       "      <th>9</th>\n",
       "      <td>Positive</td>\n",
       "      <td>Positive</td>\n",
       "    </tr>\n",
       "  </tbody>\n",
       "</table>\n",
       "</div>\n",
       "      <button class=\"colab-df-convert\" onclick=\"convertToInteractive('df-03461b1e-bee7-4492-b31e-c491ea17cdcb')\"\n",
       "              title=\"Convert this dataframe to an interactive table.\"\n",
       "              style=\"display:none;\">\n",
       "\n",
       "  <svg xmlns=\"http://www.w3.org/2000/svg\" height=\"24px\"viewBox=\"0 0 24 24\"\n",
       "       width=\"24px\">\n",
       "    <path d=\"M0 0h24v24H0V0z\" fill=\"none\"/>\n",
       "    <path d=\"M18.56 5.44l.94 2.06.94-2.06 2.06-.94-2.06-.94-.94-2.06-.94 2.06-2.06.94zm-11 1L8.5 8.5l.94-2.06 2.06-.94-2.06-.94L8.5 2.5l-.94 2.06-2.06.94zm10 10l.94 2.06.94-2.06 2.06-.94-2.06-.94-.94-2.06-.94 2.06-2.06.94z\"/><path d=\"M17.41 7.96l-1.37-1.37c-.4-.4-.92-.59-1.43-.59-.52 0-1.04.2-1.43.59L10.3 9.45l-7.72 7.72c-.78.78-.78 2.05 0 2.83L4 21.41c.39.39.9.59 1.41.59.51 0 1.02-.2 1.41-.59l7.78-7.78 2.81-2.81c.8-.78.8-2.07 0-2.86zM5.41 20L4 18.59l7.72-7.72 1.47 1.35L5.41 20z\"/>\n",
       "  </svg>\n",
       "      </button>\n",
       "\n",
       "\n",
       "\n",
       "    <div id=\"df-f87cf891-8906-44f6-a094-a4f744614165\">\n",
       "      <button class=\"colab-df-quickchart\" onclick=\"quickchart('df-f87cf891-8906-44f6-a094-a4f744614165')\"\n",
       "              title=\"Suggest charts.\"\n",
       "              style=\"display:none;\">\n",
       "\n",
       "<svg xmlns=\"http://www.w3.org/2000/svg\" height=\"24px\"viewBox=\"0 0 24 24\"\n",
       "     width=\"24px\">\n",
       "    <g>\n",
       "        <path d=\"M19 3H5c-1.1 0-2 .9-2 2v14c0 1.1.9 2 2 2h14c1.1 0 2-.9 2-2V5c0-1.1-.9-2-2-2zM9 17H7v-7h2v7zm4 0h-2V7h2v10zm4 0h-2v-4h2v4z\"/>\n",
       "    </g>\n",
       "</svg>\n",
       "      </button>\n",
       "    </div>\n",
       "\n",
       "<style>\n",
       "  .colab-df-quickchart {\n",
       "    background-color: #E8F0FE;\n",
       "    border: none;\n",
       "    border-radius: 50%;\n",
       "    cursor: pointer;\n",
       "    display: none;\n",
       "    fill: #1967D2;\n",
       "    height: 32px;\n",
       "    padding: 0 0 0 0;\n",
       "    width: 32px;\n",
       "  }\n",
       "\n",
       "  .colab-df-quickchart:hover {\n",
       "    background-color: #E2EBFA;\n",
       "    box-shadow: 0px 1px 2px rgba(60, 64, 67, 0.3), 0px 1px 3px 1px rgba(60, 64, 67, 0.15);\n",
       "    fill: #174EA6;\n",
       "  }\n",
       "\n",
       "  [theme=dark] .colab-df-quickchart {\n",
       "    background-color: #3B4455;\n",
       "    fill: #D2E3FC;\n",
       "  }\n",
       "\n",
       "  [theme=dark] .colab-df-quickchart:hover {\n",
       "    background-color: #434B5C;\n",
       "    box-shadow: 0px 1px 3px 1px rgba(0, 0, 0, 0.15);\n",
       "    filter: drop-shadow(0px 1px 2px rgba(0, 0, 0, 0.3));\n",
       "    fill: #FFFFFF;\n",
       "  }\n",
       "</style>\n",
       "\n",
       "    <script>\n",
       "      async function quickchart(key) {\n",
       "        const containerElement = document.querySelector('#' + key);\n",
       "        const charts = await google.colab.kernel.invokeFunction(\n",
       "            'suggestCharts', [key], {});\n",
       "      }\n",
       "    </script>\n",
       "\n",
       "      <script>\n",
       "\n",
       "function displayQuickchartButton(domScope) {\n",
       "  let quickchartButtonEl =\n",
       "    domScope.querySelector('#df-f87cf891-8906-44f6-a094-a4f744614165 button.colab-df-quickchart');\n",
       "  quickchartButtonEl.style.display =\n",
       "    google.colab.kernel.accessAllowed ? 'block' : 'none';\n",
       "}\n",
       "\n",
       "        displayQuickchartButton(document);\n",
       "      </script>\n",
       "      <style>\n",
       "    .colab-df-container {\n",
       "      display:flex;\n",
       "      flex-wrap:wrap;\n",
       "      gap: 12px;\n",
       "    }\n",
       "\n",
       "    .colab-df-convert {\n",
       "      background-color: #E8F0FE;\n",
       "      border: none;\n",
       "      border-radius: 50%;\n",
       "      cursor: pointer;\n",
       "      display: none;\n",
       "      fill: #1967D2;\n",
       "      height: 32px;\n",
       "      padding: 0 0 0 0;\n",
       "      width: 32px;\n",
       "    }\n",
       "\n",
       "    .colab-df-convert:hover {\n",
       "      background-color: #E2EBFA;\n",
       "      box-shadow: 0px 1px 2px rgba(60, 64, 67, 0.3), 0px 1px 3px 1px rgba(60, 64, 67, 0.15);\n",
       "      fill: #174EA6;\n",
       "    }\n",
       "\n",
       "    [theme=dark] .colab-df-convert {\n",
       "      background-color: #3B4455;\n",
       "      fill: #D2E3FC;\n",
       "    }\n",
       "\n",
       "    [theme=dark] .colab-df-convert:hover {\n",
       "      background-color: #434B5C;\n",
       "      box-shadow: 0px 1px 3px 1px rgba(0, 0, 0, 0.15);\n",
       "      filter: drop-shadow(0px 1px 2px rgba(0, 0, 0, 0.3));\n",
       "      fill: #FFFFFF;\n",
       "    }\n",
       "  </style>\n",
       "\n",
       "      <script>\n",
       "        const buttonEl =\n",
       "          document.querySelector('#df-03461b1e-bee7-4492-b31e-c491ea17cdcb button.colab-df-convert');\n",
       "        buttonEl.style.display =\n",
       "          google.colab.kernel.accessAllowed ? 'block' : 'none';\n",
       "\n",
       "        async function convertToInteractive(key) {\n",
       "          const element = document.querySelector('#df-03461b1e-bee7-4492-b31e-c491ea17cdcb');\n",
       "          const dataTable =\n",
       "            await google.colab.kernel.invokeFunction('convertToInteractive',\n",
       "                                                     [key], {});\n",
       "          if (!dataTable) return;\n",
       "\n",
       "          const docLinkHtml = 'Like what you see? Visit the ' +\n",
       "            '<a target=\"_blank\" href=https://colab.research.google.com/notebooks/data_table.ipynb>data table notebook</a>'\n",
       "            + ' to learn more about interactive tables.';\n",
       "          element.innerHTML = '';\n",
       "          dataTable['output_type'] = 'display_data';\n",
       "          await google.colab.output.renderOutput(dataTable, element);\n",
       "          const docLink = document.createElement('div');\n",
       "          docLink.innerHTML = docLinkHtml;\n",
       "          element.appendChild(docLink);\n",
       "        }\n",
       "      </script>\n",
       "    </div>\n",
       "  </div>\n"
      ],
      "text/plain": [
       "  Prediction    y_test\n",
       "0    Neutral   Neutral\n",
       "1   Negative  Negative\n",
       "2   Negative  Negative\n",
       "3    Neutral   Neutral\n",
       "4   Negative  Negative\n",
       "5   Positive  Positive\n",
       "6   Positive  Positive\n",
       "7   Positive  Positive\n",
       "8   Negative  Negative\n",
       "9   Positive  Positive"
      ]
     },
     "execution_count": 51,
     "metadata": {},
     "output_type": "execute_result"
    }
   ],
   "source": [
    "predict_df = pd.DataFrame({\n",
    "    'Prediction':y_predict,\n",
    "    'y_test':y_test_label,\n",
    "})\n",
    "predict_df.head(10)"
   ]
  },
  {
   "cell_type": "markdown",
   "id": "fe6c739e",
   "metadata": {
    "id": "fe6c739e"
   },
   "source": [
    "### Export DataFrame to File CSV"
   ]
  },
  {
   "cell_type": "code",
   "execution_count": 40,
   "id": "9fd6e17f",
   "metadata": {
    "id": "9fd6e17f"
   },
   "outputs": [],
   "source": [
    "predict_df.to_csv('./dataset/twitter_sentiment_analysis/prediction.csv')"
   ]
  },
  {
   "cell_type": "markdown",
   "id": "a2534ab2",
   "metadata": {
    "id": "a2534ab2"
   },
   "source": [
    "### Test with new data"
   ]
  },
  {
   "cell_type": "code",
   "execution_count": 41,
   "id": "8de65994",
   "metadata": {
    "colab": {
     "base_uri": "https://localhost:8080/"
    },
    "id": "8de65994",
    "outputId": "9168b635-c098-4bfc-8ed1-dc07a72ebe47"
   },
   "outputs": [
    {
     "name": "stdout",
     "output_type": "stream",
     "text": [
      "1/1 [==============================] - 0s 217ms/step\n",
      "Negative\n"
     ]
    }
   ],
   "source": [
    "txt_test = [\"This game is so bad man\"]\n",
    "txt_test = tokenizer.texts_to_sequences(txt_test)\n",
    "txt_test = pad_sequences(txt_test, maxlen = 500)\n",
    "\n",
    "predict = model.predict(txt_test)\n",
    "predicted_labels = np.argmax(predict)\n",
    "prediction = label_encoder.inverse_transform([predicted_labels])[0]\n",
    "print(prediction)"
   ]
  },
  {
   "cell_type": "code",
   "execution_count": null,
   "id": "b5dac2e0",
   "metadata": {},
   "outputs": [],
   "source": []
  }
 ],
 "metadata": {
  "accelerator": "TPU",
  "colab": {
   "provenance": []
  },
  "kernelspec": {
   "display_name": "Python 3 (ipykernel)",
   "language": "python",
   "name": "python3"
  },
  "language_info": {
   "codemirror_mode": {
    "name": "ipython",
    "version": 3
   },
   "file_extension": ".py",
   "mimetype": "text/x-python",
   "name": "python",
   "nbconvert_exporter": "python",
   "pygments_lexer": "ipython3",
   "version": "3.9.16"
  }
 },
 "nbformat": 4,
 "nbformat_minor": 5
}
